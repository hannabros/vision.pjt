{
 "metadata": {
  "language_info": {
   "codemirror_mode": {
    "name": "ipython",
    "version": 3
   },
   "file_extension": ".py",
   "mimetype": "text/x-python",
   "name": "python",
   "nbconvert_exporter": "python",
   "pygments_lexer": "ipython3",
   "version": "3.7.10"
  },
  "orig_nbformat": 2,
  "kernelspec": {
   "name": "python3710jvsc74a57bd0f9fe56d1f53e05e6e867149230eb995b7744f444df17759ccc654f8c2a866f01",
   "display_name": "Python 3.7.10 64-bit ('vision': conda)"
  },
  "metadata": {
   "interpreter": {
    "hash": "f9fe56d1f53e05e6e867149230eb995b7744f444df17759ccc654f8c2a866f01"
   }
  }
 },
 "nbformat": 4,
 "nbformat_minor": 2,
 "cells": [
  {
   "cell_type": "code",
   "execution_count": 1,
   "metadata": {},
   "outputs": [],
   "source": [
    "import pandas as pd"
   ]
  },
  {
   "cell_type": "code",
   "execution_count": 2,
   "metadata": {},
   "outputs": [],
   "source": [
    "df2020 = pd.read_csv('/home/ubuntu/workspace/vision.pjt/train.csv')\n",
    "df2019 = pd.read_csv('/home/ubuntu/workspace/vision.pjt/data/ISIC_2019_Training_GroundTruth.csv')"
   ]
  },
  {
   "cell_type": "code",
   "execution_count": 3,
   "metadata": {},
   "outputs": [
    {
     "output_type": "execute_result",
     "data": {
      "text/plain": [
       "         image_name  patient_id     sex  age_approx  \\\n",
       "0      ISIC_2637011  IP_7279968    male        45.0   \n",
       "1      ISIC_0015719  IP_3075186  female        45.0   \n",
       "2      ISIC_0052212  IP_2842074  female        50.0   \n",
       "3      ISIC_0068279  IP_6890425  female        45.0   \n",
       "4      ISIC_0074268  IP_8723313  female        55.0   \n",
       "...             ...         ...     ...         ...   \n",
       "33121  ISIC_9999134  IP_6526534    male        50.0   \n",
       "33122  ISIC_9999320  IP_3650745    male        65.0   \n",
       "33123  ISIC_9999515  IP_2026598    male        20.0   \n",
       "33124  ISIC_9999666  IP_7702038    male        50.0   \n",
       "33125  ISIC_9999806  IP_0046310    male        45.0   \n",
       "\n",
       "      anatom_site_general_challenge diagnosis benign_malignant  target  \n",
       "0                         head/neck   unknown           benign       0  \n",
       "1                   upper extremity   unknown           benign       0  \n",
       "2                   lower extremity     nevus           benign       0  \n",
       "3                         head/neck   unknown           benign       0  \n",
       "4                   upper extremity   unknown           benign       0  \n",
       "...                             ...       ...              ...     ...  \n",
       "33121                         torso   unknown           benign       0  \n",
       "33122                         torso   unknown           benign       0  \n",
       "33123               lower extremity   unknown           benign       0  \n",
       "33124               lower extremity   unknown           benign       0  \n",
       "33125                         torso     nevus           benign       0  \n",
       "\n",
       "[33126 rows x 8 columns]"
      ],
      "text/html": "<div>\n<style scoped>\n    .dataframe tbody tr th:only-of-type {\n        vertical-align: middle;\n    }\n\n    .dataframe tbody tr th {\n        vertical-align: top;\n    }\n\n    .dataframe thead th {\n        text-align: right;\n    }\n</style>\n<table border=\"1\" class=\"dataframe\">\n  <thead>\n    <tr style=\"text-align: right;\">\n      <th></th>\n      <th>image_name</th>\n      <th>patient_id</th>\n      <th>sex</th>\n      <th>age_approx</th>\n      <th>anatom_site_general_challenge</th>\n      <th>diagnosis</th>\n      <th>benign_malignant</th>\n      <th>target</th>\n    </tr>\n  </thead>\n  <tbody>\n    <tr>\n      <th>0</th>\n      <td>ISIC_2637011</td>\n      <td>IP_7279968</td>\n      <td>male</td>\n      <td>45.0</td>\n      <td>head/neck</td>\n      <td>unknown</td>\n      <td>benign</td>\n      <td>0</td>\n    </tr>\n    <tr>\n      <th>1</th>\n      <td>ISIC_0015719</td>\n      <td>IP_3075186</td>\n      <td>female</td>\n      <td>45.0</td>\n      <td>upper extremity</td>\n      <td>unknown</td>\n      <td>benign</td>\n      <td>0</td>\n    </tr>\n    <tr>\n      <th>2</th>\n      <td>ISIC_0052212</td>\n      <td>IP_2842074</td>\n      <td>female</td>\n      <td>50.0</td>\n      <td>lower extremity</td>\n      <td>nevus</td>\n      <td>benign</td>\n      <td>0</td>\n    </tr>\n    <tr>\n      <th>3</th>\n      <td>ISIC_0068279</td>\n      <td>IP_6890425</td>\n      <td>female</td>\n      <td>45.0</td>\n      <td>head/neck</td>\n      <td>unknown</td>\n      <td>benign</td>\n      <td>0</td>\n    </tr>\n    <tr>\n      <th>4</th>\n      <td>ISIC_0074268</td>\n      <td>IP_8723313</td>\n      <td>female</td>\n      <td>55.0</td>\n      <td>upper extremity</td>\n      <td>unknown</td>\n      <td>benign</td>\n      <td>0</td>\n    </tr>\n    <tr>\n      <th>...</th>\n      <td>...</td>\n      <td>...</td>\n      <td>...</td>\n      <td>...</td>\n      <td>...</td>\n      <td>...</td>\n      <td>...</td>\n      <td>...</td>\n    </tr>\n    <tr>\n      <th>33121</th>\n      <td>ISIC_9999134</td>\n      <td>IP_6526534</td>\n      <td>male</td>\n      <td>50.0</td>\n      <td>torso</td>\n      <td>unknown</td>\n      <td>benign</td>\n      <td>0</td>\n    </tr>\n    <tr>\n      <th>33122</th>\n      <td>ISIC_9999320</td>\n      <td>IP_3650745</td>\n      <td>male</td>\n      <td>65.0</td>\n      <td>torso</td>\n      <td>unknown</td>\n      <td>benign</td>\n      <td>0</td>\n    </tr>\n    <tr>\n      <th>33123</th>\n      <td>ISIC_9999515</td>\n      <td>IP_2026598</td>\n      <td>male</td>\n      <td>20.0</td>\n      <td>lower extremity</td>\n      <td>unknown</td>\n      <td>benign</td>\n      <td>0</td>\n    </tr>\n    <tr>\n      <th>33124</th>\n      <td>ISIC_9999666</td>\n      <td>IP_7702038</td>\n      <td>male</td>\n      <td>50.0</td>\n      <td>lower extremity</td>\n      <td>unknown</td>\n      <td>benign</td>\n      <td>0</td>\n    </tr>\n    <tr>\n      <th>33125</th>\n      <td>ISIC_9999806</td>\n      <td>IP_0046310</td>\n      <td>male</td>\n      <td>45.0</td>\n      <td>torso</td>\n      <td>nevus</td>\n      <td>benign</td>\n      <td>0</td>\n    </tr>\n  </tbody>\n</table>\n<p>33126 rows × 8 columns</p>\n</div>"
     },
     "metadata": {},
     "execution_count": 3
    }
   ],
   "source": [
    "df2020"
   ]
  },
  {
   "cell_type": "code",
   "execution_count": 6,
   "metadata": {},
   "outputs": [
    {
     "output_type": "execute_result",
     "data": {
      "text/plain": [
       "diagnosis\n",
       "atypical melanocytic proliferation        1\n",
       "cafe-au-lait macule                       1\n",
       "lentigo NOS                              44\n",
       "lichenoid keratosis                      37\n",
       "melanoma                                584\n",
       "nevus                                  5193\n",
       "seborrheic keratosis                    135\n",
       "solar lentigo                             7\n",
       "unknown                               27124\n",
       "Name: image_name, dtype: int64"
      ]
     },
     "metadata": {},
     "execution_count": 6
    }
   ],
   "source": [
    "df2020.groupby('diagnosis').count()['image_name']"
   ]
  },
  {
   "cell_type": "code",
   "execution_count": 4,
   "metadata": {},
   "outputs": [
    {
     "output_type": "execute_result",
     "data": {
      "text/plain": [
       "              image  MEL   NV  BCC   AK  BKL   DF  VASC  SCC  UNK\n",
       "0      ISIC_0000000  0.0  1.0  0.0  0.0  0.0  0.0   0.0  0.0  0.0\n",
       "1      ISIC_0000001  0.0  1.0  0.0  0.0  0.0  0.0   0.0  0.0  0.0\n",
       "2      ISIC_0000002  1.0  0.0  0.0  0.0  0.0  0.0   0.0  0.0  0.0\n",
       "3      ISIC_0000003  0.0  1.0  0.0  0.0  0.0  0.0   0.0  0.0  0.0\n",
       "4      ISIC_0000004  1.0  0.0  0.0  0.0  0.0  0.0   0.0  0.0  0.0\n",
       "...             ...  ...  ...  ...  ...  ...  ...   ...  ...  ...\n",
       "25326  ISIC_0073247  0.0  0.0  1.0  0.0  0.0  0.0   0.0  0.0  0.0\n",
       "25327  ISIC_0073248  0.0  0.0  0.0  0.0  1.0  0.0   0.0  0.0  0.0\n",
       "25328  ISIC_0073249  1.0  0.0  0.0  0.0  0.0  0.0   0.0  0.0  0.0\n",
       "25329  ISIC_0073251  0.0  1.0  0.0  0.0  0.0  0.0   0.0  0.0  0.0\n",
       "25330  ISIC_0073254  0.0  0.0  0.0  0.0  1.0  0.0   0.0  0.0  0.0\n",
       "\n",
       "[25331 rows x 10 columns]"
      ],
      "text/html": "<div>\n<style scoped>\n    .dataframe tbody tr th:only-of-type {\n        vertical-align: middle;\n    }\n\n    .dataframe tbody tr th {\n        vertical-align: top;\n    }\n\n    .dataframe thead th {\n        text-align: right;\n    }\n</style>\n<table border=\"1\" class=\"dataframe\">\n  <thead>\n    <tr style=\"text-align: right;\">\n      <th></th>\n      <th>image</th>\n      <th>MEL</th>\n      <th>NV</th>\n      <th>BCC</th>\n      <th>AK</th>\n      <th>BKL</th>\n      <th>DF</th>\n      <th>VASC</th>\n      <th>SCC</th>\n      <th>UNK</th>\n    </tr>\n  </thead>\n  <tbody>\n    <tr>\n      <th>0</th>\n      <td>ISIC_0000000</td>\n      <td>0.0</td>\n      <td>1.0</td>\n      <td>0.0</td>\n      <td>0.0</td>\n      <td>0.0</td>\n      <td>0.0</td>\n      <td>0.0</td>\n      <td>0.0</td>\n      <td>0.0</td>\n    </tr>\n    <tr>\n      <th>1</th>\n      <td>ISIC_0000001</td>\n      <td>0.0</td>\n      <td>1.0</td>\n      <td>0.0</td>\n      <td>0.0</td>\n      <td>0.0</td>\n      <td>0.0</td>\n      <td>0.0</td>\n      <td>0.0</td>\n      <td>0.0</td>\n    </tr>\n    <tr>\n      <th>2</th>\n      <td>ISIC_0000002</td>\n      <td>1.0</td>\n      <td>0.0</td>\n      <td>0.0</td>\n      <td>0.0</td>\n      <td>0.0</td>\n      <td>0.0</td>\n      <td>0.0</td>\n      <td>0.0</td>\n      <td>0.0</td>\n    </tr>\n    <tr>\n      <th>3</th>\n      <td>ISIC_0000003</td>\n      <td>0.0</td>\n      <td>1.0</td>\n      <td>0.0</td>\n      <td>0.0</td>\n      <td>0.0</td>\n      <td>0.0</td>\n      <td>0.0</td>\n      <td>0.0</td>\n      <td>0.0</td>\n    </tr>\n    <tr>\n      <th>4</th>\n      <td>ISIC_0000004</td>\n      <td>1.0</td>\n      <td>0.0</td>\n      <td>0.0</td>\n      <td>0.0</td>\n      <td>0.0</td>\n      <td>0.0</td>\n      <td>0.0</td>\n      <td>0.0</td>\n      <td>0.0</td>\n    </tr>\n    <tr>\n      <th>...</th>\n      <td>...</td>\n      <td>...</td>\n      <td>...</td>\n      <td>...</td>\n      <td>...</td>\n      <td>...</td>\n      <td>...</td>\n      <td>...</td>\n      <td>...</td>\n      <td>...</td>\n    </tr>\n    <tr>\n      <th>25326</th>\n      <td>ISIC_0073247</td>\n      <td>0.0</td>\n      <td>0.0</td>\n      <td>1.0</td>\n      <td>0.0</td>\n      <td>0.0</td>\n      <td>0.0</td>\n      <td>0.0</td>\n      <td>0.0</td>\n      <td>0.0</td>\n    </tr>\n    <tr>\n      <th>25327</th>\n      <td>ISIC_0073248</td>\n      <td>0.0</td>\n      <td>0.0</td>\n      <td>0.0</td>\n      <td>0.0</td>\n      <td>1.0</td>\n      <td>0.0</td>\n      <td>0.0</td>\n      <td>0.0</td>\n      <td>0.0</td>\n    </tr>\n    <tr>\n      <th>25328</th>\n      <td>ISIC_0073249</td>\n      <td>1.0</td>\n      <td>0.0</td>\n      <td>0.0</td>\n      <td>0.0</td>\n      <td>0.0</td>\n      <td>0.0</td>\n      <td>0.0</td>\n      <td>0.0</td>\n      <td>0.0</td>\n    </tr>\n    <tr>\n      <th>25329</th>\n      <td>ISIC_0073251</td>\n      <td>0.0</td>\n      <td>1.0</td>\n      <td>0.0</td>\n      <td>0.0</td>\n      <td>0.0</td>\n      <td>0.0</td>\n      <td>0.0</td>\n      <td>0.0</td>\n      <td>0.0</td>\n    </tr>\n    <tr>\n      <th>25330</th>\n      <td>ISIC_0073254</td>\n      <td>0.0</td>\n      <td>0.0</td>\n      <td>0.0</td>\n      <td>0.0</td>\n      <td>1.0</td>\n      <td>0.0</td>\n      <td>0.0</td>\n      <td>0.0</td>\n      <td>0.0</td>\n    </tr>\n  </tbody>\n</table>\n<p>25331 rows × 10 columns</p>\n</div>"
     },
     "metadata": {},
     "execution_count": 4
    }
   ],
   "source": [
    "df2019"
   ]
  },
  {
   "cell_type": "code",
   "execution_count": 14,
   "metadata": {},
   "outputs": [],
   "source": [
    "img2019, diag2019 = list(), list()\n",
    "for idx, row in df2019.iterrows():\n",
    "    if row['MEL'] == 1.0:\n",
    "        img2019.append(row['image'])\n",
    "        diag2019.append('melanoma')\n",
    "    elif row['NV'] == 1.0:\n",
    "        img2019.append(row['image'])\n",
    "        diag2019.append('nevus')\n",
    "    elif row['BKL'] == 1.0:\n",
    "        img2019.append(row['image'])\n",
    "        diag2019.append('bkl')\n",
    "    elif row['UNK'] == 1.0:\n",
    "        img2019.append(row['image'])\n",
    "        diag2019.append('unknown')"
   ]
  },
  {
   "cell_type": "code",
   "execution_count": 15,
   "metadata": {},
   "outputs": [],
   "source": [
    "img2020, diag2020 = list(), list()\n",
    "for idx, row in df2020.iterrows():\n",
    "    diagnosis = row['diagnosis']\n",
    "    if diagnosis == 'melanoma':\n",
    "        img2020.append(row['image_name'])\n",
    "        diag2020.append('melanoma')\n",
    "    elif diagnosis == 'nevus':\n",
    "        img2020.append(row['image_name'])\n",
    "        diag2020.append('nevus')\n",
    "    elif diagnosis in ['seborrheic keratosis', 'solar lentigo', 'lentigo NOS', 'lichenoid keratosis']:\n",
    "        img2020.append(row['image_name'])\n",
    "        diag2020.append('bkl')\n",
    "    elif diagnosis in ['unknown', 'cafe-au-lait macule', 'atypical melanocytic proliferation']:\n",
    "        img2020.append(row['image_name'])\n",
    "        diag2020.append('unknown')"
   ]
  },
  {
   "cell_type": "code",
   "execution_count": 16,
   "metadata": {},
   "outputs": [
    {
     "output_type": "execute_result",
     "data": {
      "text/plain": [
       "         image_name diagnosis\n",
       "0      ISIC_0000000     nevus\n",
       "1      ISIC_0000001     nevus\n",
       "2      ISIC_0000002  melanoma\n",
       "3      ISIC_0000003     nevus\n",
       "4      ISIC_0000004  melanoma\n",
       "...             ...       ...\n",
       "53142  ISIC_9999134   unknown\n",
       "53143  ISIC_9999320   unknown\n",
       "53144  ISIC_9999515   unknown\n",
       "53145  ISIC_9999666   unknown\n",
       "53146  ISIC_9999806     nevus\n",
       "\n",
       "[53147 rows x 2 columns]"
      ],
      "text/html": "<div>\n<style scoped>\n    .dataframe tbody tr th:only-of-type {\n        vertical-align: middle;\n    }\n\n    .dataframe tbody tr th {\n        vertical-align: top;\n    }\n\n    .dataframe thead th {\n        text-align: right;\n    }\n</style>\n<table border=\"1\" class=\"dataframe\">\n  <thead>\n    <tr style=\"text-align: right;\">\n      <th></th>\n      <th>image_name</th>\n      <th>diagnosis</th>\n    </tr>\n  </thead>\n  <tbody>\n    <tr>\n      <th>0</th>\n      <td>ISIC_0000000</td>\n      <td>nevus</td>\n    </tr>\n    <tr>\n      <th>1</th>\n      <td>ISIC_0000001</td>\n      <td>nevus</td>\n    </tr>\n    <tr>\n      <th>2</th>\n      <td>ISIC_0000002</td>\n      <td>melanoma</td>\n    </tr>\n    <tr>\n      <th>3</th>\n      <td>ISIC_0000003</td>\n      <td>nevus</td>\n    </tr>\n    <tr>\n      <th>4</th>\n      <td>ISIC_0000004</td>\n      <td>melanoma</td>\n    </tr>\n    <tr>\n      <th>...</th>\n      <td>...</td>\n      <td>...</td>\n    </tr>\n    <tr>\n      <th>53142</th>\n      <td>ISIC_9999134</td>\n      <td>unknown</td>\n    </tr>\n    <tr>\n      <th>53143</th>\n      <td>ISIC_9999320</td>\n      <td>unknown</td>\n    </tr>\n    <tr>\n      <th>53144</th>\n      <td>ISIC_9999515</td>\n      <td>unknown</td>\n    </tr>\n    <tr>\n      <th>53145</th>\n      <td>ISIC_9999666</td>\n      <td>unknown</td>\n    </tr>\n    <tr>\n      <th>53146</th>\n      <td>ISIC_9999806</td>\n      <td>nevus</td>\n    </tr>\n  </tbody>\n</table>\n<p>53147 rows × 2 columns</p>\n</div>"
     },
     "metadata": {},
     "execution_count": 16
    }
   ],
   "source": [
    "skin_combine = pd.DataFrame({'image_name': img2019+img2020, 'diagnosis':diag2019+diag2020})\n",
    "skin_combine"
   ]
  },
  {
   "cell_type": "code",
   "execution_count": 29,
   "metadata": {},
   "outputs": [
    {
     "output_type": "execute_result",
     "data": {
      "text/plain": [
       "  diagnosis  image_name    percent\n",
       "0       bkl        2847   5.356840\n",
       "1  melanoma        5106   9.607316\n",
       "2     nevus       18068  33.996274\n",
       "3   unknown       27126  51.039569"
      ],
      "text/html": "<div>\n<style scoped>\n    .dataframe tbody tr th:only-of-type {\n        vertical-align: middle;\n    }\n\n    .dataframe tbody tr th {\n        vertical-align: top;\n    }\n\n    .dataframe thead th {\n        text-align: right;\n    }\n</style>\n<table border=\"1\" class=\"dataframe\">\n  <thead>\n    <tr style=\"text-align: right;\">\n      <th></th>\n      <th>diagnosis</th>\n      <th>image_name</th>\n      <th>percent</th>\n    </tr>\n  </thead>\n  <tbody>\n    <tr>\n      <th>0</th>\n      <td>bkl</td>\n      <td>2847</td>\n      <td>5.356840</td>\n    </tr>\n    <tr>\n      <th>1</th>\n      <td>melanoma</td>\n      <td>5106</td>\n      <td>9.607316</td>\n    </tr>\n    <tr>\n      <th>2</th>\n      <td>nevus</td>\n      <td>18068</td>\n      <td>33.996274</td>\n    </tr>\n    <tr>\n      <th>3</th>\n      <td>unknown</td>\n      <td>27126</td>\n      <td>51.039569</td>\n    </tr>\n  </tbody>\n</table>\n</div>"
     },
     "metadata": {},
     "execution_count": 29
    }
   ],
   "source": [
    "cnt = skin_combine.groupby('diagnosis').count().reset_index()\n",
    "cnt['percent'] = cnt['image_name'].map(lambda x: float(x/cnt['image_name'].sum()) * 100)\n",
    "cnt"
   ]
  },
  {
   "cell_type": "code",
   "execution_count": 30,
   "metadata": {},
   "outputs": [],
   "source": [
    "skin_combine.to_csv('../skin_combine.csv', index=False)"
   ]
  },
  {
   "cell_type": "code",
   "execution_count": null,
   "metadata": {},
   "outputs": [],
   "source": []
  }
 ]
}