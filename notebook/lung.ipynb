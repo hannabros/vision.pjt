{
 "metadata": {
  "language_info": {
   "codemirror_mode": {
    "name": "ipython",
    "version": 3
   },
   "file_extension": ".py",
   "mimetype": "text/x-python",
   "name": "python",
   "nbconvert_exporter": "python",
   "pygments_lexer": "ipython3",
   "version": "3.7.10"
  },
  "orig_nbformat": 2,
  "kernelspec": {
   "name": "python3710jvsc74a57bd0f9fe56d1f53e05e6e867149230eb995b7744f444df17759ccc654f8c2a866f01",
   "display_name": "Python 3.7.10 64-bit ('vision': conda)"
  }
 },
 "nbformat": 4,
 "nbformat_minor": 2,
 "cells": [
  {
   "source": [
    "## Image to DF"
   ],
   "cell_type": "markdown",
   "metadata": {}
  },
  {
   "cell_type": "code",
   "execution_count": 1,
   "metadata": {},
   "outputs": [],
   "source": [
    "import os\n",
    "import pandas as pd"
   ]
  },
  {
   "cell_type": "code",
   "execution_count": null,
   "metadata": {},
   "outputs": [],
   "source": [
    "tile_df = pd.DataFrame(columns=['image_name', 'label', 'no_tiles'])\n",
    "lung_df = pd.DataFrame(columns=['image_name', 'label', 'tvt', 'image_link', 'x_pos', 'y_pos'])\n",
    "\n",
    "TEMP_DIR = ['Solid_Tissue_Normal', 'TCGA-LUAD', 'TCGA-LUSC']\n",
    "\n",
    "for t in TEMP_DIR:\n",
    "    ls = os.listdir(t)\n",
    "    image_names = []\n",
    "    labels = []\n",
    "    tvts = []\n",
    "    image_links = []\n",
    "    x_poss = []\n",
    "    y_poss = []\n",
    "    for l in ls:\n",
    "        image_name = l\n",
    "        label = t\n",
    "        tvt = l.split('_')[0]\n",
    "        x_pos = l.split('_')[2]\n",
    "        y_pos = l.split('_')[3].replace('.jpeg', '')\n",
    "        image_link = os.readlink(os.path.join(t, l))\n",
    "        image_names.append(image_name)\n",
    "        labels.append(label)\n",
    "        tvts.append(tvt)\n",
    "        image_links.append(image_link)\n",
    "        x_poss.append(x_pos)\n",
    "        y_poss.append(y_pos)\n",
    "lung_df = lung_df.append(pd.DataFrame({'image_name':image_names, 'label':labels, 'tvt': tvts,\n",
    "'image_link':image_links, 'x_pos':x_poss, 'y_pos':y_poss}))\n",
    "\n",
    "lung_df.to_csv('lung_5.csv', index=False)"
   ]
  },
  {
   "cell_type": "code",
   "execution_count": null,
   "metadata": {},
   "outputs": [],
   "source": [
    "tile_df.to_csv('lung_5.csv', index=False)"
   ]
  },
  {
   "source": [
    "Lung 5 Count"
   ],
   "cell_type": "markdown",
   "metadata": {}
  },
  {
   "cell_type": "code",
   "execution_count": 8,
   "metadata": {},
   "outputs": [],
   "source": [
    "lung5_9 = pd.read_csv('../data/lung_5.csv')\n",
    "lung5_1 = pd.read_csv('../data/lung_5_1.csv')\n",
    "lung5_2 = pd.read_csv('../data/lung_5_2.csv')\n",
    "lung20 = pd.read_csv('../data/lung_20_filter.csv')"
   ]
  },
  {
   "cell_type": "code",
   "execution_count": 4,
   "metadata": {},
   "outputs": [
    {
     "output_type": "execute_result",
     "data": {
      "text/plain": [
       "label                tvt  \n",
       "Solid_Tissue_Normal  test      131\n",
       "                     train     456\n",
       "                     valid     154\n",
       "TCGA-LUAD            test      392\n",
       "                     train    1841\n",
       "                     valid     385\n",
       "TCGA-LUSC            test      395\n",
       "                     train    1760\n",
       "                     valid     387\n",
       "Name: image_name, dtype: int64"
      ]
     },
     "metadata": {},
     "execution_count": 4
    }
   ],
   "source": [
    "lung5_9.groupby(['label', 'tvt']).count()['image_name']"
   ]
  },
  {
   "cell_type": "code",
   "execution_count": 6,
   "metadata": {},
   "outputs": [
    {
     "output_type": "execute_result",
     "data": {
      "text/plain": [
       "label                tvt  \n",
       "Solid_Tissue_Normal  test      199\n",
       "                     train     718\n",
       "                     valid     315\n",
       "TCGA-LUAD            test      306\n",
       "                     train     972\n",
       "                     valid     254\n",
       "TCGA-LUSC            test      414\n",
       "                     train    1725\n",
       "                     valid     424\n",
       "Name: image_name, dtype: int64"
      ]
     },
     "metadata": {},
     "execution_count": 6
    }
   ],
   "source": [
    "lung5_1.groupby(['label', 'tvt']).count()['image_name']"
   ]
  },
  {
   "cell_type": "code",
   "execution_count": 7,
   "metadata": {},
   "outputs": [
    {
     "output_type": "execute_result",
     "data": {
      "text/plain": [
       "label                tvt  \n",
       "Solid_Tissue_Normal  test      101\n",
       "                     train     374\n",
       "                     valid     147\n",
       "TCGA-LUAD            test      257\n",
       "                     train    1097\n",
       "                     valid     238\n",
       "TCGA-LUSC            test      374\n",
       "                     train    1759\n",
       "                     valid     462\n",
       "Name: image_name, dtype: int64"
      ]
     },
     "metadata": {},
     "execution_count": 7
    }
   ],
   "source": [
    "lung5_2.groupby(['label', 'tvt']).count()['image_name']"
   ]
  },
  {
   "cell_type": "code",
   "execution_count": 9,
   "metadata": {},
   "outputs": [
    {
     "output_type": "execute_result",
     "data": {
      "text/plain": [
       "label                tvt  \n",
       "Solid_Tissue_Normal  test      1686\n",
       "                     train     8367\n",
       "                     valid     2100\n",
       "TCGA-LUAD            test      8474\n",
       "                     train    23068\n",
       "                     valid     6519\n",
       "TCGA-LUSC            test      5767\n",
       "                     train    25219\n",
       "                     valid     5548\n",
       "Name: image_name, dtype: int64"
      ]
     },
     "metadata": {},
     "execution_count": 9
    }
   ],
   "source": [
    "lung20.groupby(['label', 'tvt']).count()['image_name']"
   ]
  },
  {
   "cell_type": "code",
   "execution_count": null,
   "metadata": {},
   "outputs": [],
   "source": []
  }
 ]
}