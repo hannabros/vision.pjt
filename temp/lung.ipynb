{
 "metadata": {
  "language_info": {
   "codemirror_mode": {
    "name": "ipython",
    "version": 3
   },
   "file_extension": ".py",
   "mimetype": "text/x-python",
   "name": "python",
   "nbconvert_exporter": "python",
   "pygments_lexer": "ipython3",
   "version": 3
  },
  "orig_nbformat": 2
 },
 "nbformat": 4,
 "nbformat_minor": 2,
 "cells": [
  {
   "source": [
    "## Image to DF"
   ],
   "cell_type": "markdown",
   "metadata": {}
  },
  {
   "cell_type": "code",
   "execution_count": null,
   "metadata": {},
   "outputs": [],
   "source": [
    "import os\n",
    "import pandas as pd"
   ]
  },
  {
   "cell_type": "code",
   "execution_count": null,
   "metadata": {},
   "outputs": [],
   "source": [
    "tile_df = pd.DataFrame(columns=['image_name', 'label', 'no_tiles'])\n",
    "lung_df = pd.DataFrame(columns=['image_name', 'label', 'tvt', 'image_link', 'x_pos', 'y_pos'])\n",
    "\n",
    "TEMP_DIR = ['Solid_Tissue_Normal', 'TCGA-LUAD', 'TCGA-LUSC']\n",
    "\n",
    "for t in TEMP_DIR:\n",
    "    ls = os.listdir(t)\n",
    "    image_names = []\n",
    "    labels = []\n",
    "    tvts = []\n",
    "    image_links = []\n",
    "    x_poss = []\n",
    "    y_poss = []\n",
    "    for l in ls:\n",
    "        image_name = l\n",
    "        label = t\n",
    "        tvt = l.split('_')[0]\n",
    "        x_pos = l.split('_')[2]\n",
    "        y_pos = l.split('_')[3].replace('.jpeg', '')\n",
    "        image_link = os.readlink(os.path.join(t, l))\n",
    "        image_names.append(image_name)\n",
    "        labels.append(label)\n",
    "        tvts.append(tvt)\n",
    "        image_links.append(image_link)\n",
    "        x_poss.append(x_pos)\n",
    "        y_poss.append(y_pos)\n",
    "lung_df = lung_df.append(pd.DataFrame({'image_name':image_names, 'label':labels, 'tvt': tvts,\n",
    "'image_link':image_links, 'x_pos':x_poss, 'y_pos':y_poss}))\n",
    "\n",
    "lung_df.to_csv('lung_5.csv', index=False)"
   ]
  },
  {
   "cell_type": "code",
   "execution_count": null,
   "metadata": {},
   "outputs": [],
   "source": [
    "tile_df.to_csv('lung_5.csv', index=False)"
   ]
  }
 ]
}